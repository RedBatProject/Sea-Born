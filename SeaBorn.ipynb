{
  "nbformat": 4,
  "nbformat_minor": 0,
  "metadata": {
    "colab": {
      "name": "SeaBorn.ipynb",
      "provenance": [],
      "collapsed_sections": [],
      "mount_file_id": "1h3QTcLxioAKa_YD3FfEPHkg81p1eHgvu",
      "authorship_tag": "ABX9TyPEUykbPBW44w19n4UU8aPZ",
      "include_colab_link": true
    },
    "kernelspec": {
      "name": "python3",
      "display_name": "Python 3"
    },
    "language_info": {
      "name": "python"
    }
  },
  "cells": [
    {
      "cell_type": "markdown",
      "metadata": {
        "id": "view-in-github",
        "colab_type": "text"
      },
      "source": [
        "<a href=\"https://colab.research.google.com/github/horsinnaround/Sea-Born/blob/main/SeaBorn.ipynb\" target=\"_parent\"><img src=\"https://colab.research.google.com/assets/colab-badge.svg\" alt=\"Open In Colab\"/></a>"
      ]
    },
    {
      "cell_type": "code",
      "execution_count": 2,
      "metadata": {
        "id": "_XqyOCtHPIWl"
      },
      "outputs": [],
      "source": [
        "import numpy as np\n",
        "import pandas as pd\n",
        "import matplotlib.pyplot as plt\n",
        "import seaborn as sns\n",
        "sns.set_theme(style=\"darkgrid\")\n"
      ]
    },
    {
      "cell_type": "code",
      "source": [
        "data = pd.read_csv('/content/drive/MyDrive/data/Student_performance/data/features.csv')"
      ],
      "metadata": {
        "id": "qtwe0BIOTiRU"
      },
      "execution_count": 3,
      "outputs": []
    },
    {
      "cell_type": "code",
      "source": [
        "# tips = sns.load_dataset(\"tips\")\n",
        "# sns.relplot(x=\"total_bill\", y=\"tip\", data=tips);"
      ],
      "metadata": {
        "id": "ll0Q5CGWTEuc"
      },
      "execution_count": 4,
      "outputs": []
    },
    {
      "cell_type": "code",
      "source": [
        "# tips"
      ],
      "metadata": {
        "id": "syeKI5MgTTx6"
      },
      "execution_count": 5,
      "outputs": []
    },
    {
      "cell_type": "code",
      "source": [
        "data.info()"
      ],
      "metadata": {
        "colab": {
          "base_uri": "https://localhost:8080/"
        },
        "id": "fzPutmMoUchW",
        "outputId": "0e2fb4fa-4b32-40a6-d69e-2117fe9e645a"
      },
      "execution_count": 6,
      "outputs": [
        {
          "output_type": "stream",
          "name": "stdout",
          "text": [
            "<class 'pandas.core.frame.DataFrame'>\n",
            "RangeIndex: 1204 entries, 0 to 1203\n",
            "Data columns (total 32 columns):\n",
            " #   Column      Non-Null Count  Dtype\n",
            "---  ------      --------------  -----\n",
            " 0   school      1204 non-null   int64\n",
            " 1   sex         1204 non-null   int64\n",
            " 2   age         1204 non-null   int64\n",
            " 3   address     1204 non-null   int64\n",
            " 4   famsize     1204 non-null   int64\n",
            " 5   Pstatus     1204 non-null   int64\n",
            " 6   Medu        1204 non-null   int64\n",
            " 7   Fedu        1204 non-null   int64\n",
            " 8   Mjob        1204 non-null   int64\n",
            " 9   Fjob        1204 non-null   int64\n",
            " 10  reason      1204 non-null   int64\n",
            " 11  guardian    1204 non-null   int64\n",
            " 12  traveltime  1204 non-null   int64\n",
            " 13  studytime   1204 non-null   int64\n",
            " 14  failures    1204 non-null   int64\n",
            " 15  schoolsup   1204 non-null   int64\n",
            " 16  famsup      1204 non-null   int64\n",
            " 17  paid        1204 non-null   int64\n",
            " 18  activities  1204 non-null   int64\n",
            " 19  nursery     1204 non-null   int64\n",
            " 20  higher      1204 non-null   int64\n",
            " 21  internet    1204 non-null   int64\n",
            " 22  romantic    1204 non-null   int64\n",
            " 23  famrel      1204 non-null   int64\n",
            " 24  freetime    1204 non-null   int64\n",
            " 25  goout       1204 non-null   int64\n",
            " 26  Dalc        1204 non-null   int64\n",
            " 27  Walc        1204 non-null   int64\n",
            " 28  health      1204 non-null   int64\n",
            " 29  absences    1204 non-null   int64\n",
            " 30  G1          1204 non-null   int64\n",
            " 31  G2          1204 non-null   int64\n",
            "dtypes: int64(32)\n",
            "memory usage: 301.1 KB\n"
          ]
        }
      ]
    },
    {
      "cell_type": "code",
      "source": [
        "data.columns"
      ],
      "metadata": {
        "colab": {
          "base_uri": "https://localhost:8080/"
        },
        "id": "BJb5BdvWTmPk",
        "outputId": "1aa69d2e-ad39-4a12-9ad0-b753a7537e36"
      },
      "execution_count": 7,
      "outputs": [
        {
          "output_type": "execute_result",
          "data": {
            "text/plain": [
              "Index(['school', 'sex', 'age', 'address', 'famsize', 'Pstatus', 'Medu', 'Fedu',\n",
              "       'Mjob', 'Fjob', 'reason', 'guardian', 'traveltime', 'studytime',\n",
              "       'failures', 'schoolsup', 'famsup', 'paid', 'activities', 'nursery',\n",
              "       'higher', 'internet', 'romantic', 'famrel', 'freetime', 'goout', 'Dalc',\n",
              "       'Walc', 'health', 'absences', 'G1', 'G2'],\n",
              "      dtype='object')"
            ]
          },
          "metadata": {},
          "execution_count": 7
        }
      ]
    },
    {
      "cell_type": "code",
      "source": [
        "\"adress {'U': 1, 'R': 0}\"\n",
        "\"school {'MS': 1, 'GP': 0}\"\n",
        "\"famsize {'GT1': 1, 'LE3': 0}\"\n",
        "\"Pstatus {'T': 1, 'A': 0}\"\n",
        "\"all yes :1 AND no:0\"\n",
        "\"Mjob and Fjob --> {'health': 1, 'teacher': 2, 'at_home':0, 'services':3,'other':4 }\"\n",
        "\"guardian {'mother': 0, 'father': 1, 'others':4}\"\n",
        "\"sex {'F': 0, 'M': 1}\"\n",
        "\"reason {'course': 0, 'home ': 1, 'reputation':2, 'others':4}\""
      ],
      "metadata": {
        "id": "Vdo-PnwQjdlI",
        "colab": {
          "base_uri": "https://localhost:8080/",
          "height": 35
        },
        "outputId": "22c9279d-d31e-48e5-8bc7-14148aaf2e6f"
      },
      "execution_count": 8,
      "outputs": [
        {
          "output_type": "execute_result",
          "data": {
            "text/plain": [
              "\"reason {'course': 0, 'home ': 1, 'reputation':2, 'others':4}\""
            ],
            "application/vnd.google.colaboratory.intrinsic+json": {
              "type": "string"
            }
          },
          "metadata": {},
          "execution_count": 8
        }
      ]
    },
    {
      "cell_type": "code",
      "source": [
        "sns.set(rc={\"figure.dpi\":100, 'savefig.dpi':600})"
      ],
      "metadata": {
        "id": "gm5SOjZanqLi"
      },
      "execution_count": 9,
      "outputs": []
    },
    {
      "cell_type": "code",
      "source": [
        ""
      ],
      "metadata": {
        "id": "E3neMRHNL7mC"
      },
      "execution_count": null,
      "outputs": []
    },
    {
      "cell_type": "code",
      "source": [
        "# sns.set(rc={\"figure.dpi\":200, 'savefig.dpi':1600})\n",
        "palette=\"ch:r=-.5,l=.95\"\n",
        "sns.relplot(x=\"address\", y=\"G2\",hue='reason',palette=palette,style='sex', data=data);\n",
        "# plt.savefig('/content/j.jpg')"
      ],
      "metadata": {
        "colab": {
          "base_uri": "https://localhost:8080/",
          "height": 501
        },
        "id": "oED5tgbWTqBG",
        "outputId": "bd421720-5be9-43d7-ab5d-40a0effbb910"
      },
      "execution_count": 11,
      "outputs": [
        {
          "output_type": "display_data",
          "data": {
            "text/plain": [
              "<Figure size 580.694x500 with 1 Axes>"
            ],
            "image/png": "[encoded data removed]"
          },
          "metadata": {}
        }
      ]
    },
    {
      "cell_type": "code",
      "source": [
        "sns.relplot(x=\"address\", y=\"G2\",hue='reason',alpha=0.3,sizes=(15, 200),style='sex',size='famsize',data=data);"
      ],
      "metadata": {
        "id": "du5TUnVwiVuz"
      },
      "execution_count": null,
      "outputs": []
    },
    {
      "cell_type": "code",
      "source": [
        "df = pd.DataFrame(dict(time=np.arange(500),\n",
        "                       value=np.random.randn(500).cumsum()))\n",
        "g = sns.relplot(x=\"time\", y=\"value\", kind=\"line\", data=df)\n",
        "g.figure.autofmt_xdate()"
      ],
      "metadata": {
        "id": "BQWMAJsI0W4Z"
      },
      "execution_count": null,
      "outputs": []
    },
    {
      "cell_type": "code",
      "source": [
        "df = pd.DataFrame(np.random.randn(500, 2).cumsum(axis=0), columns=[\"x\", \"y\"])\n",
        "sns.relplot(x=\"x\", y=\"y\", sort=False, kind=\"line\", data=df);"
      ],
      "metadata": {
        "id": "C754Na6ulolR"
      },
      "execution_count": null,
      "outputs": []
    },
    {
      "cell_type": "code",
      "source": [
        "\n",
        "fmri = sns.load_dataset(\"fmri\")\n",
        "sns.relplot(x=\"timepoint\", y=\"signal\", kind=\"line\", data=fmri);\n"
      ],
      "metadata": {
        "id": "x1_m44Xwl5rM"
      },
      "execution_count": null,
      "outputs": []
    },
    {
      "cell_type": "code",
      "source": [
        "fmri"
      ],
      "metadata": {
        "id": "6HOO0qEql6uG"
      },
      "execution_count": null,
      "outputs": []
    },
    {
      "cell_type": "code",
      "source": [
        "sns.relplot(x=\"timepoint\", y=\"signal\", ci=None, kind=\"line\", data=fmri);"
      ],
      "metadata": {
        "id": "9asV1tUtmP3c"
      },
      "execution_count": null,
      "outputs": []
    },
    {
      "cell_type": "code",
      "source": [
        "sns.relplot(x=\"timepoint\", y=\"signal\", kind=\"line\", ci=\"sd\", data=fmri);\n"
      ],
      "metadata": {
        "id": "xLcMWNFNmnjl"
      },
      "execution_count": null,
      "outputs": []
    },
    {
      "cell_type": "code",
      "source": [
        "data.columns"
      ],
      "metadata": {
        "id": "lz8Y5ZH3mr9T"
      },
      "execution_count": null,
      "outputs": []
    },
    {
      "cell_type": "code",
      "source": [
        "sns.relplot(x=\"age\", y=\"sex\",kind=\"line\", data=data);\n"
      ],
      "metadata": {
        "id": "mhIADl2FmbBH"
      },
      "execution_count": null,
      "outputs": []
    },
    {
      "cell_type": "code",
      "source": [
        "sns.relplot(x=\"age\", y=\"sex\",kind=\"line\",ci=\"sd\", data=data);\n"
      ],
      "metadata": {
        "id": "Hxul5oZUmm6d"
      },
      "execution_count": null,
      "outputs": []
    },
    {
      "cell_type": "code",
      "source": [
        "sns.relplot(x=\"age\", y=\"sex\",kind=\"line\",estimator=None, data=data);\n"
      ],
      "metadata": {
        "id": "uYrdO8xvnUtX"
      },
      "execution_count": null,
      "outputs": []
    },
    {
      "cell_type": "code",
      "source": [
        "fmri = data"
      ],
      "metadata": {
        "id": "_wUADDblpMF_"
      },
      "execution_count": null,
      "outputs": []
    },
    {
      "cell_type": "code",
      "source": [
        "data.columns"
      ],
      "metadata": {
        "id": "6OVlWUhdpYla"
      },
      "execution_count": null,
      "outputs": []
    },
    {
      "cell_type": "code",
      "source": [
        "sns.relplot(x=\"age\", y=\"sex\", hue=\"freetime\",kind='line',style='romantic' , data=data);"
      ],
      "metadata": {
        "id": "iXaoVqS5pJ8C"
      },
      "execution_count": null,
      "outputs": []
    },
    {
      "cell_type": "code",
      "source": [
        "sns.relplot(x=\"timepoint\", y=\"signal\", hue=\"region\", style=\"event\",\n",
        "            kind=\"line\",markers=True, data=fmri);"
      ],
      "metadata": {
        "id": "YnN_zR2OpM3G"
      },
      "execution_count": null,
      "outputs": []
    },
    {
      "cell_type": "code",
      "source": [
        "dots = sns.load_dataset(\"dots\").query(\"align == 'dots'\")\n",
        "sns.relplot(x=\"time\", y=\"firing_rate\",\n",
        "            hue=\"coherence\", style=\"choice\",\n",
        "            kind=\"line\", data=dots);"
      ],
      "metadata": {
        "id": "Plpu2gbtrMOs"
      },
      "execution_count": null,
      "outputs": []
    },
    {
      "cell_type": "code",
      "source": [
        "palette = sns.cubehelix_palette(light=.8, n_colors=6)\n",
        "sns.relplot(x=\"time\", y=\"firing_rate\",\n",
        "            hue=\"coherence\", style=\"choice\",\n",
        "            palette=palette,\n",
        "            kind=\"line\", data=dots);"
      ],
      "metadata": {
        "id": "XKzvhBA7u1Oq"
      },
      "execution_count": null,
      "outputs": []
    },
    {
      "cell_type": "code",
      "source": [
        "from matplotlib.colors import LogNorm\n",
        "palette = sns.cubehelix_palette(light=.7, n_colors=6)\n",
        "sns.relplot(x=\"time\", y=\"firing_rate\",\n",
        "            hue=\"coherence\", style=\"choice\",\n",
        "            hue_norm=LogNorm(),\n",
        "            kind=\"line\",\n",
        "            data=dots.query(\"coherence > 0\"));"
      ],
      "metadata": {
        "id": "A71HnEnFu9Ug"
      },
      "execution_count": null,
      "outputs": []
    },
    {
      "cell_type": "code",
      "source": [
        "sns.relplot(x=\"time\", y=\"firing_rate\",\n",
        "            size=\"coherence\", style=\"choice\",\n",
        "            kind=\"line\", data=dots);"
      ],
      "metadata": {
        "id": "CbEiaJ0BvG13"
      },
      "execution_count": null,
      "outputs": []
    },
    {
      "cell_type": "code",
      "source": [
        "sns.relplot(x=\"time\", y=\"firing_rate\",\n",
        "           hue=\"coherence\", size=\"choice\",\n",
        "           palette=palette,\n",
        "           kind=\"line\", data=dots);"
      ],
      "metadata": {
        "id": "32JvRg4cvPkf"
      },
      "execution_count": null,
      "outputs": []
    },
    {
      "cell_type": "code",
      "source": [
        "df = pd.DataFrame(dict(time=pd.date_range(\"2017-1-1\", periods=500),\n",
        "                       value=np.random.randn(500).cumsum()))\n",
        "g = sns.relplot(x=\"time\", y=\"value\", kind=\"line\", data=df)\n",
        "g.figure.autofmt_xdate()\n"
      ],
      "metadata": {
        "id": "GKPW6mOSvbQy"
      },
      "execution_count": null,
      "outputs": []
    },
    {
      "cell_type": "code",
      "source": [
        "sns.relplot(x=\"time\", y=\"firing_rate\",\n",
        "        #    hue=,\n",
        "            col=\"coherence\", data=dots);"
      ],
      "metadata": {
        "id": "pHWO_J9j3W6y"
      },
      "execution_count": null,
      "outputs": []
    },
    {
      "cell_type": "code",
      "source": [
        "sns.relplot(x=\"timepoint\", y=\"signal\", hue=\"subject\",\n",
        "            col=\"region\", row=\"event\", height=3,\n",
        "            kind=\"line\", estimator=None, data=fmri);"
      ],
      "metadata": {
        "id": "i5d_ThfO3w-K"
      },
      "execution_count": null,
      "outputs": []
    },
    {
      "cell_type": "code",
      "source": [
        "sns.relplot(x=\"timepoint\", y=\"signal\", hue=\"event\", style=\"event\",\n",
        "            col=\"subject\", col_wrap=5,\n",
        "            height=3, aspect=.75, linewidth=2.5,\n",
        "            kind=\"line\", data=fmri.query(\"region == 'frontal'\"));"
      ],
      "metadata": {
        "id": "_7dKRLJj30Ca"
      },
      "execution_count": null,
      "outputs": []
    },
    {
      "cell_type": "markdown",
      "source": [
        "# about color and style of plots![image.png](data:image/png;base64,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)"
      ],
      "metadata": {
        "id": "eXjiB8mfMR5X"
      }
    },
    {
      "cell_type": "code",
      "source": [
        "\"tab10\" 'deep' 'muted' 'pastel' 'bright' 'dark' 'colorblind'"
      ],
      "metadata": {
        "id": "enh4-qmJMYcO"
      },
      "execution_count": null,
      "outputs": []
    },
    {
      "cell_type": "code",
      "source": [
        "'Accent', 'Accent_r', 'Blues', 'Blues_r', 'BrBG', 'BrBG_r', 'BuGn',\n",
        "'BuGn_r', 'BuPu', 'BuPu_r', 'CMRmap', 'CMRmap_r', 'Dark2', 'Dark2_r',\n",
        "'GnBu', 'GnBu_r', 'Greens', 'Greens_r', 'Greys', 'Greys_r', 'OrRd',\n",
        "'OrRd_r', 'Oranges', 'Oranges_r', 'PRGn', 'PRGn_r', 'Paired',\n",
        "'Paired_r', 'Pastel1', 'Pastel1_r', 'Pastel2', 'Pastel2_r',\n",
        "'PiYG', 'PiYG_r', 'PuBu', 'PuBuGn', 'PuBuGn_r', 'PuBu_r',\n",
        "'PuOr', 'PuOr_r', 'PuRd', 'PuRd_r', 'Purples', 'Purples_r',\n",
        "'RdBu', 'RdBu_r', 'RdGy', 'RdGy_r', 'RdPu', 'RdPu_r', 'RdYlBu',\n",
        "'RdYlBu_r', 'RdYlGn', 'RdYlGn_r', 'Reds', 'Reds_r', 'Set1',\n",
        "'Set1_r', 'Set2', 'Set2_r', 'Set3', 'Set3_r', 'Spectral',\n",
        "'Spectral_r', 'Wistia', 'Wistia_r', 'YlGn', 'YlGnBu', 'YlGnBu_r',\n",
        "'YlGn_r', 'YlOrBr', 'YlOrBr_r', 'YlOrRd', 'YlOrRd_r', 'afmhot',\n",
        "'afmhot_r', 'autumn', 'autumn_r', 'binary', 'binary_r', 'bone',\n",
        "'bone_r', 'brg', 'brg_r', 'bwr', 'bwr_r', 'cividis', 'cividis_r',\n",
        "'cool', 'cool_r', 'coolwarm', 'coolwarm_r', 'copper', 'copper_r',\n",
        "'crest', 'crest_r', 'cubehelix', 'cubehelix_r', 'flag', 'flag_r',\n",
        "'flare', 'flare_r', 'gist_earth', 'gist_earth_r', 'gist_gray',\n",
        "'gist_gray_r', 'gist_heat', 'gist_heat_r', 'gist_ncar',\n",
        "'gist_ncar_r', 'gist_rainbow', 'gist_rainbow_r',\n",
        "'gist_stern', 'gist_stern_r', 'gist_yarg', 'gist_yarg_r',\n",
        "'gnuplot', 'gnuplot2', 'gnuplot2_r', 'gnuplot_r', 'gray',\n",
        "'gray_r', 'hot', 'hot_r', 'hsv', \n",
        "'hsv_r', 'icefire', 'icefire_r', 'inferno', 'inferno_r',\n",
        "'jet', 'jet_r'\n"
      ],
      "metadata": {
        "id": "WNn8MF_7ORY0"
      },
      "execution_count": null,
      "outputs": []
    },
    {
      "cell_type": "code",
      "source": [
        "sns.color_palette(\"icefire\")"
      ],
      "metadata": {
        "colab": {
          "base_uri": "https://localhost:8080/",
          "height": 76
        },
        "id": "hzaU4U63MWR3",
        "outputId": "d945c8bf-3e7d-4f2a-f51c-5d4ace0b3b37"
      },
      "execution_count": 38,
      "outputs": [
        {
          "output_type": "execute_result",
          "data": {
            "text/plain": [
              "[(0.33355526, 0.64107876, 0.80445484),\n",
              " (0.28708711, 0.32912157, 0.69034504),\n",
              " (0.15652427, 0.15348248, 0.22238175),\n",
              " (0.22994394, 0.13076731, 0.15146314),\n",
              " (0.61319563, 0.1824336, 0.2687872),\n",
              " (0.91463791, 0.43668557, 0.21367954)]"
            ],
            "text/html": [
              "<svg  width=\"330\" height=\"55\"><rect x=\"0\" y=\"0\" width=\"55\" height=\"55\" style=\"fill:#55a3cd;stroke-width:2;stroke:rgb(255,255,255)\"/><rect x=\"55\" y=\"0\" width=\"55\" height=\"55\" style=\"fill:#4954b0;stroke-width:2;stroke:rgb(255,255,255)\"/><rect x=\"110\" y=\"0\" width=\"55\" height=\"55\" style=\"fill:#282739;stroke-width:2;stroke:rgb(255,255,255)\"/><rect x=\"165\" y=\"0\" width=\"55\" height=\"55\" style=\"fill:#3b2127;stroke-width:2;stroke:rgb(255,255,255)\"/><rect x=\"220\" y=\"0\" width=\"55\" height=\"55\" style=\"fill:#9c2f45;stroke-width:2;stroke:rgb(255,255,255)\"/><rect x=\"275\" y=\"0\" width=\"55\" height=\"55\" style=\"fill:#e96f36;stroke-width:2;stroke:rgb(255,255,255)\"/></svg>"
            ]
          },
          "metadata": {},
          "execution_count": 38
        }
      ]
    },
    {
      "cell_type": "code",
      "source": [
        "sns.color_palette(\"hls\", 14)"
      ],
      "metadata": {
        "colab": {
          "base_uri": "https://localhost:8080/",
          "height": 76
        },
        "id": "xG1xCYbKLpMf",
        "outputId": "8dd82d51-6b85-487e-fe98-220c21457556"
      },
      "execution_count": 28,
      "outputs": [
        {
          "output_type": "execute_result",
          "data": {
            "text/plain": [
              "[(0.86, 0.3712, 0.33999999999999997),\n",
              " (0.86, 0.5940571428571428, 0.33999999999999997),\n",
              " (0.86, 0.8169142857142857, 0.33999999999999997),\n",
              " (0.6802285714285714, 0.86, 0.33999999999999997),\n",
              " (0.4573714285714283, 0.86, 0.33999999999999997),\n",
              " (0.33999999999999997, 0.86, 0.4454857142857142),\n",
              " (0.33999999999999997, 0.86, 0.6683428571428571),\n",
              " (0.33999999999999997, 0.8287999999999999, 0.86),\n",
              " (0.33999999999999997, 0.6059428571428571, 0.86),\n",
              " (0.33999999999999997, 0.3830857142857143, 0.86),\n",
              " (0.5197714285714281, 0.33999999999999997, 0.86),\n",
              " (0.7426285714285714, 0.33999999999999997, 0.86),\n",
              " (0.86, 0.33999999999999997, 0.7545142857142858),\n",
              " (0.86, 0.33999999999999997, 0.531657142857143)]"
            ],
            "text/html": [
              "<svg  width=\"770\" height=\"55\"><rect x=\"0\" y=\"0\" width=\"55\" height=\"55\" style=\"fill:#db5f57;stroke-width:2;stroke:rgb(255,255,255)\"/><rect x=\"55\" y=\"0\" width=\"55\" height=\"55\" style=\"fill:#db9757;stroke-width:2;stroke:rgb(255,255,255)\"/><rect x=\"110\" y=\"0\" width=\"55\" height=\"55\" style=\"fill:#dbd057;stroke-width:2;stroke:rgb(255,255,255)\"/><rect x=\"165\" y=\"0\" width=\"55\" height=\"55\" style=\"fill:#addb57;stroke-width:2;stroke:rgb(255,255,255)\"/><rect x=\"220\" y=\"0\" width=\"55\" height=\"55\" style=\"fill:#75db57;stroke-width:2;stroke:rgb(255,255,255)\"/><rect x=\"275\" y=\"0\" width=\"55\" height=\"55\" style=\"fill:#57db72;stroke-width:2;stroke:rgb(255,255,255)\"/><rect x=\"330\" y=\"0\" width=\"55\" height=\"55\" style=\"fill:#57dbaa;stroke-width:2;stroke:rgb(255,255,255)\"/><rect x=\"385\" y=\"0\" width=\"55\" height=\"55\" style=\"fill:#57d3db;stroke-width:2;stroke:rgb(255,255,255)\"/><rect x=\"440\" y=\"0\" width=\"55\" height=\"55\" style=\"fill:#579bdb;stroke-width:2;stroke:rgb(255,255,255)\"/><rect x=\"495\" y=\"0\" width=\"55\" height=\"55\" style=\"fill:#5762db;stroke-width:2;stroke:rgb(255,255,255)\"/><rect x=\"550\" y=\"0\" width=\"55\" height=\"55\" style=\"fill:#8557db;stroke-width:2;stroke:rgb(255,255,255)\"/><rect x=\"605\" y=\"0\" width=\"55\" height=\"55\" style=\"fill:#bd57db;stroke-width:2;stroke:rgb(255,255,255)\"/><rect x=\"660\" y=\"0\" width=\"55\" height=\"55\" style=\"fill:#db57c0;stroke-width:2;stroke:rgb(255,255,255)\"/><rect x=\"715\" y=\"0\" width=\"55\" height=\"55\" style=\"fill:#db5788;stroke-width:2;stroke:rgb(255,255,255)\"/></svg>"
            ]
          },
          "metadata": {},
          "execution_count": 28
        }
      ]
    },
    {
      "cell_type": "code",
      "source": [
        "sns.color_palette(\"husl\", 14)"
      ],
      "metadata": {
        "colab": {
          "base_uri": "https://localhost:8080/",
          "height": 76
        },
        "id": "CbUHRyDmNiSu",
        "outputId": "047d5e31-a775-4b70-a093-a982bc8e6b0d"
      },
      "execution_count": 30,
      "outputs": [
        {
          "output_type": "execute_result",
          "data": {
            "text/plain": [
              "[(0.9677975592919913, 0.44127456009157356, 0.5358103155058701),\n",
              " (0.9386807511529497, 0.48901639250529133, 0.19623149776413562),\n",
              " (0.7757319041862729, 0.5784925270759935, 0.19475566538551875),\n",
              " (0.6566480096570136, 0.6229564921397143, 0.1938976562578914),\n",
              " (0.5105309046900421, 0.6614299289084904, 0.1930849118538962),\n",
              " (0.19468252393000074, 0.6998280342882891, 0.3041476695746048),\n",
              " (0.20433460114757862, 0.6863857739476534, 0.5407103379425205),\n",
              " (0.21044753832183283, 0.6773105080456748, 0.6433941168468681),\n",
              " (0.21662978923073606, 0.6676586160122123, 0.7318695594345369),\n",
              " (0.2266813382629933, 0.6508721810235698, 0.85618939194681),\n",
              " (0.5049017849530067, 0.5909119231215284, 0.9584657252128558),\n",
              " (0.7563369715809057, 0.5008642633638004, 0.9580503362615219),\n",
              " (0.9587050080494409, 0.3662259565791742, 0.9231469575614251),\n",
              " (0.9640248692994725, 0.41206779951067346, 0.7303540600728443)]"
            ],
            "text/html": [
              "<svg  width=\"770\" height=\"55\"><rect x=\"0\" y=\"0\" width=\"55\" height=\"55\" style=\"fill:#f77189;stroke-width:2;stroke:rgb(255,255,255)\"/><rect x=\"55\" y=\"0\" width=\"55\" height=\"55\" style=\"fill:#ef7d32;stroke-width:2;stroke:rgb(255,255,255)\"/><rect x=\"110\" y=\"0\" width=\"55\" height=\"55\" style=\"fill:#c69432;stroke-width:2;stroke:rgb(255,255,255)\"/><rect x=\"165\" y=\"0\" width=\"55\" height=\"55\" style=\"fill:#a79f31;stroke-width:2;stroke:rgb(255,255,255)\"/><rect x=\"220\" y=\"0\" width=\"55\" height=\"55\" style=\"fill:#82a931;stroke-width:2;stroke:rgb(255,255,255)\"/><rect x=\"275\" y=\"0\" width=\"55\" height=\"55\" style=\"fill:#32b24e;stroke-width:2;stroke:rgb(255,255,255)\"/><rect x=\"330\" y=\"0\" width=\"55\" height=\"55\" style=\"fill:#34af8a;stroke-width:2;stroke:rgb(255,255,255)\"/><rect x=\"385\" y=\"0\" width=\"55\" height=\"55\" style=\"fill:#36ada4;stroke-width:2;stroke:rgb(255,255,255)\"/><rect x=\"440\" y=\"0\" width=\"55\" height=\"55\" style=\"fill:#37aabb;stroke-width:2;stroke:rgb(255,255,255)\"/><rect x=\"495\" y=\"0\" width=\"55\" height=\"55\" style=\"fill:#3aa6da;stroke-width:2;stroke:rgb(255,255,255)\"/><rect x=\"550\" y=\"0\" width=\"55\" height=\"55\" style=\"fill:#8197f4;stroke-width:2;stroke:rgb(255,255,255)\"/><rect x=\"605\" y=\"0\" width=\"55\" height=\"55\" style=\"fill:#c180f4;stroke-width:2;stroke:rgb(255,255,255)\"/><rect x=\"660\" y=\"0\" width=\"55\" height=\"55\" style=\"fill:#f45deb;stroke-width:2;stroke:rgb(255,255,255)\"/><rect x=\"715\" y=\"0\" width=\"55\" height=\"55\" style=\"fill:#f669ba;stroke-width:2;stroke:rgb(255,255,255)\"/></svg>"
            ]
          },
          "metadata": {},
          "execution_count": 30
        }
      ]
    },
    {
      "cell_type": "code",
      "source": [
        "sns.color_palette(\"Set2\")"
      ],
      "metadata": {
        "colab": {
          "base_uri": "https://localhost:8080/",
          "height": 76
        },
        "id": "uDF2ke17NukH",
        "outputId": "26397e11-81e8-4123-cc30-7f7eb66d4bc8"
      },
      "execution_count": 31,
      "outputs": [
        {
          "output_type": "execute_result",
          "data": {
            "text/plain": [
              "[(0.4, 0.7607843137254902, 0.6470588235294118),\n",
              " (0.9882352941176471, 0.5529411764705883, 0.3843137254901961),\n",
              " (0.5529411764705883, 0.6274509803921569, 0.796078431372549),\n",
              " (0.9058823529411765, 0.5411764705882353, 0.7647058823529411),\n",
              " (0.6509803921568628, 0.8470588235294118, 0.32941176470588235),\n",
              " (1.0, 0.8509803921568627, 0.1843137254901961),\n",
              " (0.8980392156862745, 0.7686274509803922, 0.5803921568627451),\n",
              " (0.7019607843137254, 0.7019607843137254, 0.7019607843137254)]"
            ],
            "text/html": [
              "<svg  width=\"440\" height=\"55\"><rect x=\"0\" y=\"0\" width=\"55\" height=\"55\" style=\"fill:#66c2a5;stroke-width:2;stroke:rgb(255,255,255)\"/><rect x=\"55\" y=\"0\" width=\"55\" height=\"55\" style=\"fill:#fc8d62;stroke-width:2;stroke:rgb(255,255,255)\"/><rect x=\"110\" y=\"0\" width=\"55\" height=\"55\" style=\"fill:#8da0cb;stroke-width:2;stroke:rgb(255,255,255)\"/><rect x=\"165\" y=\"0\" width=\"55\" height=\"55\" style=\"fill:#e78ac3;stroke-width:2;stroke:rgb(255,255,255)\"/><rect x=\"220\" y=\"0\" width=\"55\" height=\"55\" style=\"fill:#a6d854;stroke-width:2;stroke:rgb(255,255,255)\"/><rect x=\"275\" y=\"0\" width=\"55\" height=\"55\" style=\"fill:#ffd92f;stroke-width:2;stroke:rgb(255,255,255)\"/><rect x=\"330\" y=\"0\" width=\"55\" height=\"55\" style=\"fill:#e5c494;stroke-width:2;stroke:rgb(255,255,255)\"/><rect x=\"385\" y=\"0\" width=\"55\" height=\"55\" style=\"fill:#b3b3b3;stroke-width:2;stroke:rgb(255,255,255)\"/></svg>"
            ]
          },
          "metadata": {},
          "execution_count": 31
        }
      ]
    },
    {
      "cell_type": "code",
      "source": [
        "sns.color_palette(\"Set1\")"
      ],
      "metadata": {
        "colab": {
          "base_uri": "https://localhost:8080/",
          "height": 76
        },
        "id": "35qHnEQ5Nvk7",
        "outputId": "52c4bd55-6e50-4cd4-b8d2-3bd0813609eb"
      },
      "execution_count": 32,
      "outputs": [
        {
          "output_type": "execute_result",
          "data": {
            "text/plain": [
              "[(0.8941176470588236, 0.10196078431372549, 0.10980392156862745),\n",
              " (0.21568627450980393, 0.49411764705882355, 0.7215686274509804),\n",
              " (0.30196078431372547, 0.6862745098039216, 0.2901960784313726),\n",
              " (0.596078431372549, 0.3058823529411765, 0.6392156862745098),\n",
              " (1.0, 0.4980392156862745, 0.0),\n",
              " (1.0, 1.0, 0.2),\n",
              " (0.6509803921568628, 0.33725490196078434, 0.1568627450980392),\n",
              " (0.9686274509803922, 0.5058823529411764, 0.7490196078431373),\n",
              " (0.6, 0.6, 0.6)]"
            ],
            "text/html": [
              "<svg  width=\"495\" height=\"55\"><rect x=\"0\" y=\"0\" width=\"55\" height=\"55\" style=\"fill:#e41a1c;stroke-width:2;stroke:rgb(255,255,255)\"/><rect x=\"55\" y=\"0\" width=\"55\" height=\"55\" style=\"fill:#377eb8;stroke-width:2;stroke:rgb(255,255,255)\"/><rect x=\"110\" y=\"0\" width=\"55\" height=\"55\" style=\"fill:#4daf4a;stroke-width:2;stroke:rgb(255,255,255)\"/><rect x=\"165\" y=\"0\" width=\"55\" height=\"55\" style=\"fill:#984ea3;stroke-width:2;stroke:rgb(255,255,255)\"/><rect x=\"220\" y=\"0\" width=\"55\" height=\"55\" style=\"fill:#ff7f00;stroke-width:2;stroke:rgb(255,255,255)\"/><rect x=\"275\" y=\"0\" width=\"55\" height=\"55\" style=\"fill:#ffff33;stroke-width:2;stroke:rgb(255,255,255)\"/><rect x=\"330\" y=\"0\" width=\"55\" height=\"55\" style=\"fill:#a65628;stroke-width:2;stroke:rgb(255,255,255)\"/><rect x=\"385\" y=\"0\" width=\"55\" height=\"55\" style=\"fill:#f781bf;stroke-width:2;stroke:rgb(255,255,255)\"/><rect x=\"440\" y=\"0\" width=\"55\" height=\"55\" style=\"fill:#999999;stroke-width:2;stroke:rgb(255,255,255)\"/></svg>"
            ]
          },
          "metadata": {},
          "execution_count": 32
        }
      ]
    },
    {
      "cell_type": "code",
      "source": [
        "sns.color_palette(\"Paired\")"
      ],
      "metadata": {
        "colab": {
          "base_uri": "https://localhost:8080/",
          "height": 76
        },
        "id": "5k3F9HwANyBx",
        "outputId": "33da2d72-cb0f-4162-9a1b-daefb0a53e1e"
      },
      "execution_count": 35,
      "outputs": [
        {
          "output_type": "execute_result",
          "data": {
            "text/plain": [
              "[(0.6509803921568628, 0.807843137254902, 0.8901960784313725),\n",
              " (0.12156862745098039, 0.47058823529411764, 0.7058823529411765),\n",
              " (0.6980392156862745, 0.8745098039215686, 0.5411764705882353),\n",
              " (0.2, 0.6274509803921569, 0.17254901960784313),\n",
              " (0.984313725490196, 0.6039215686274509, 0.6),\n",
              " (0.8901960784313725, 0.10196078431372549, 0.10980392156862745),\n",
              " (0.9921568627450981, 0.7490196078431373, 0.43529411764705883),\n",
              " (1.0, 0.4980392156862745, 0.0),\n",
              " (0.792156862745098, 0.6980392156862745, 0.8392156862745098),\n",
              " (0.41568627450980394, 0.23921568627450981, 0.6039215686274509),\n",
              " (1.0, 1.0, 0.6),\n",
              " (0.6941176470588235, 0.34901960784313724, 0.1568627450980392)]"
            ],
            "text/html": [
              "<svg  width=\"660\" height=\"55\"><rect x=\"0\" y=\"0\" width=\"55\" height=\"55\" style=\"fill:#a6cee3;stroke-width:2;stroke:rgb(255,255,255)\"/><rect x=\"55\" y=\"0\" width=\"55\" height=\"55\" style=\"fill:#1f78b4;stroke-width:2;stroke:rgb(255,255,255)\"/><rect x=\"110\" y=\"0\" width=\"55\" height=\"55\" style=\"fill:#b2df8a;stroke-width:2;stroke:rgb(255,255,255)\"/><rect x=\"165\" y=\"0\" width=\"55\" height=\"55\" style=\"fill:#33a02c;stroke-width:2;stroke:rgb(255,255,255)\"/><rect x=\"220\" y=\"0\" width=\"55\" height=\"55\" style=\"fill:#fb9a99;stroke-width:2;stroke:rgb(255,255,255)\"/><rect x=\"275\" y=\"0\" width=\"55\" height=\"55\" style=\"fill:#e31a1c;stroke-width:2;stroke:rgb(255,255,255)\"/><rect x=\"330\" y=\"0\" width=\"55\" height=\"55\" style=\"fill:#fdbf6f;stroke-width:2;stroke:rgb(255,255,255)\"/><rect x=\"385\" y=\"0\" width=\"55\" height=\"55\" style=\"fill:#ff7f00;stroke-width:2;stroke:rgb(255,255,255)\"/><rect x=\"440\" y=\"0\" width=\"55\" height=\"55\" style=\"fill:#cab2d6;stroke-width:2;stroke:rgb(255,255,255)\"/><rect x=\"495\" y=\"0\" width=\"55\" height=\"55\" style=\"fill:#6a3d9a;stroke-width:2;stroke:rgb(255,255,255)\"/><rect x=\"550\" y=\"0\" width=\"55\" height=\"55\" style=\"fill:#ffff99;stroke-width:2;stroke:rgb(255,255,255)\"/><rect x=\"605\" y=\"0\" width=\"55\" height=\"55\" style=\"fill:#b15928;stroke-width:2;stroke:rgb(255,255,255)\"/></svg>"
            ]
          },
          "metadata": {},
          "execution_count": 35
        }
      ]
    },
    {
      "cell_type": "code",
      "source": [
        "sns.color_palette(\"rocket\", as_cmap=True)"
      ],
      "metadata": {
        "colab": {
          "base_uri": "https://localhost:8080/"
        },
        "id": "820r2AddN-yu",
        "outputId": "9fe7cc01-623b-4117-f824-24f252832a7e"
      },
      "execution_count": 41,
      "outputs": [
        {
          "output_type": "execute_result",
          "data": {
            "text/plain": [
              "<matplotlib.colors.ListedColormap at 0x7fcbd64b5390>"
            ]
          },
          "metadata": {},
          "execution_count": 41
        }
      ]
    },
    {
      "cell_type": "code",
      "source": [
        "sns.color_palette(\"mako\", as_cmap=True)"
      ],
      "metadata": {
        "colab": {
          "base_uri": "https://localhost:8080/"
        },
        "id": "lMmSV4DPPChQ",
        "outputId": "0b2b93ff-04b2-4f14-c0a7-420d57d5d4d8"
      },
      "execution_count": 42,
      "outputs": [
        {
          "output_type": "execute_result",
          "data": {
            "text/plain": [
              "<matplotlib.colors.ListedColormap at 0x7fcbd64b55d0>"
            ]
          },
          "metadata": {},
          "execution_count": 42
        }
      ]
    },
    {
      "cell_type": "code",
      "source": [
        "sns.color_palette(\"viridis\", as_cmap=True)\n"
      ],
      "metadata": {
        "colab": {
          "base_uri": "https://localhost:8080/"
        },
        "id": "cYIgH7oAPHHZ",
        "outputId": "dab66178-d698-4fbe-e587-ef27a4948b9d"
      },
      "execution_count": 43,
      "outputs": [
        {
          "output_type": "execute_result",
          "data": {
            "text/plain": [
              "<matplotlib.colors.ListedColormap at 0x7fcbeea32810>"
            ]
          },
          "metadata": {},
          "execution_count": 43
        }
      ]
    },
    {
      "cell_type": "code",
      "source": [
        "sns.color_palette(\"cubehelix\", as_cmap=True)"
      ],
      "metadata": {
        "colab": {
          "base_uri": "https://localhost:8080/"
        },
        "id": "DmK0zMU5PLOQ",
        "outputId": "73550860-38d0-4fe0-8209-6ffc3d6de2b7"
      },
      "execution_count": 44,
      "outputs": [
        {
          "output_type": "execute_result",
          "data": {
            "text/plain": [
              "<matplotlib.colors.LinearSegmentedColormap at 0x7fcbee94b210>"
            ]
          },
          "metadata": {},
          "execution_count": 44
        }
      ]
    },
    {
      "cell_type": "code",
      "source": [
        "# sns.set(rc={\"figure.dpi\":200, 'savefig.dpi':1600})\n",
        "palette=sns.color_palette(\"rocket\")\n",
        "# sns.color_palette(\"cubehelix\", as_cmap=True)\n",
        "sns.relplot(x=\"address\", y=\"G2\",hue='reason',palette=palette,style='sex', data=data);\n",
        "# plt.savefig('/content/j.jpg')"
      ],
      "metadata": {
        "colab": {
          "base_uri": "https://localhost:8080/",
          "height": 501
        },
        "id": "jYYbR6ZPPQO6",
        "outputId": "b422a5d9-a098-4441-ccba-b8462e05cbf4"
      },
      "execution_count": 46,
      "outputs": [
        {
          "output_type": "display_data",
          "data": {
            "text/plain": [
              "<Figure size 580.694x500 with 1 Axes>"
            ],
            "image/png": "[encoded data removed]"
          },
          "metadata": {}
        }
      ]
    },
    {
      "cell_type": "code",
      "source": [
        "sns.color_palette(\"cubehelix\", as_cmap=True)"
      ],
      "metadata": {
        "colab": {
          "base_uri": "https://localhost:8080/"
        },
        "id": "uvm4vB3kPbvH",
        "outputId": "eb041e52-5eb6-42ec-dba3-9adb7ebb58c7"
      },
      "execution_count": 47,
      "outputs": [
        {
          "output_type": "execute_result",
          "data": {
            "text/plain": [
              "<matplotlib.colors.LinearSegmentedColormap at 0x7fcbee94b210>"
            ]
          },
          "metadata": {},
          "execution_count": 47
        }
      ]
    },
    {
      "cell_type": "code",
      "source": [
        "sns.color_palette(\"YlOrBr\", as_cmap=True)"
      ],
      "metadata": {
        "colab": {
          "base_uri": "https://localhost:8080/"
        },
        "id": "yzXEUBytPea5",
        "outputId": "07fb21c7-24fc-4da5-b0b7-0252fa5ec1ba"
      },
      "execution_count": 48,
      "outputs": [
        {
          "output_type": "execute_result",
          "data": {
            "text/plain": [
              "<matplotlib.colors.LinearSegmentedColormap at 0x7fcbeea32a90>"
            ]
          },
          "metadata": {},
          "execution_count": 48
        }
      ]
    },
    {
      "cell_type": "code",
      "source": [
        "sns.color_palette(\"vlag\", as_cmap=True)"
      ],
      "metadata": {
        "colab": {
          "base_uri": "https://localhost:8080/"
        },
        "id": "BC204Q0CPhCa",
        "outputId": "0bf4ca89-6dd1-4377-bc3d-3e8f93d82ee1"
      },
      "execution_count": 49,
      "outputs": [
        {
          "output_type": "execute_result",
          "data": {
            "text/plain": [
              "<matplotlib.colors.ListedColormap at 0x7fcbd64b5950>"
            ]
          },
          "metadata": {},
          "execution_count": 49
        }
      ]
    },
    {
      "cell_type": "code",
      "source": [
        "sns.color_palette(\"icefire\", as_cmap=True)"
      ],
      "metadata": {
        "colab": {
          "base_uri": "https://localhost:8080/"
        },
        "id": "76PRQtVuPifp",
        "outputId": "4efbacea-2366-4bb2-9ee7-80996c108406"
      },
      "execution_count": 50,
      "outputs": [
        {
          "output_type": "execute_result",
          "data": {
            "text/plain": [
              "<matplotlib.colors.ListedColormap at 0x7fcbd64b5790>"
            ]
          },
          "metadata": {},
          "execution_count": 50
        }
      ]
    },
    {
      "cell_type": "code",
      "source": [
        "sns.diverging_palette(145, 300, s=60, as_cmap=True)"
      ],
      "metadata": {
        "colab": {
          "base_uri": "https://localhost:8080/"
        },
        "id": "Gk30E8otPmw6",
        "outputId": "07788d76-ca37-4c9b-f7a4-8c6c7a8e69a2"
      },
      "execution_count": 51,
      "outputs": [
        {
          "output_type": "execute_result",
          "data": {
            "text/plain": [
              "<matplotlib.colors.LinearSegmentedColormap at 0x7fcbd2c1a590>"
            ]
          },
          "metadata": {},
          "execution_count": 51
        }
      ]
    },
    {
      "cell_type": "code",
      "source": [
        "sns.color_palette(\"coolwarm\", as_cmap=True)\n"
      ],
      "metadata": {
        "colab": {
          "base_uri": "https://localhost:8080/"
        },
        "id": "DIJ0-_CiPm6a",
        "outputId": "10ac04e0-4054-4cfe-e87a-7c4dfbebef18"
      },
      "execution_count": 52,
      "outputs": [
        {
          "output_type": "execute_result",
          "data": {
            "text/plain": [
              "<matplotlib.colors.LinearSegmentedColormap at 0x7fcbee94b190>"
            ]
          },
          "metadata": {},
          "execution_count": 52
        }
      ]
    },
    {
      "cell_type": "code",
      "source": [
        ""
      ],
      "metadata": {
        "id": "qTxSRMLIPqO7"
      },
      "execution_count": null,
      "outputs": []
    },
    {
      "cell_type": "markdown",
      "source": [
        "# Seaborn \n",
        "\n",
        "https://seaborn.pydata.org/tutorial/aesthetics.html"
      ],
      "metadata": {
        "id": "P7DBmddkPxI3"
      }
    }
  ]
}